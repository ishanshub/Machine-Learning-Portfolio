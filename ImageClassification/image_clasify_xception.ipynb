{
  "nbformat": 4,
  "nbformat_minor": 0,
  "metadata": {
    "colab": {
      "provenance": [],
      "collapsed_sections": []
    },
    "kernelspec": {
      "name": "python3",
      "display_name": "Python 3"
    },
    "language_info": {
      "name": "python"
    },
    "accelerator": "GPU"
  },
  "cells": [
    {
      "cell_type": "code",
      "source": [
        "! mkdir ~/.kaggle\n",
        "! cp kaggle.json ~/.kaggle/\n",
        "! chmod 600 ~/.kaggle/kaggle.json"
      ],
      "metadata": {
        "id": "2BLJ7WbKNilB"
      },
      "execution_count": 1,
      "outputs": []
    },
    {
      "cell_type": "code",
      "source": [
        "! kaggle datasets download -d alessiocorrado99/animals10"
      ],
      "metadata": {
        "colab": {
          "base_uri": "https://localhost:8080/"
        },
        "id": "fL2NH3RHNlyr",
        "outputId": "3b4569b8-8148-4f54-edcb-6921f8693d30"
      },
      "execution_count": 2,
      "outputs": [
        {
          "output_type": "stream",
          "name": "stdout",
          "text": [
            "Downloading animals10.zip to /content\n",
            " 99% 582M/586M [00:03<00:00, 155MB/s]\n",
            "100% 586M/586M [00:03<00:00, 188MB/s]\n"
          ]
        }
      ]
    },
    {
      "cell_type": "code",
      "source": [
        "!unzip /content/animals10.zip"
      ],
      "metadata": {
        "id": "tqfIvzj1Nsd5"
      },
      "execution_count": null,
      "outputs": []
    },
    {
      "cell_type": "code",
      "source": [
        "from PIL import Image\n",
        "import numpy as np\n",
        "from tensorflow.keras.applications.xception import Xception\n",
        "from tensorflow.keras.optimizers import RMSprop\n",
        "from tensorflow.keras import layers, Model\n",
        "from tensorflow.keras.preprocessing.image import ImageDataGenerator"
      ],
      "metadata": {
        "id": "NLH0l7Fiej6U"
      },
      "execution_count": 89,
      "outputs": []
    },
    {
      "cell_type": "code",
      "source": [
        "!pip install split-folders\n",
        "import splitfolders\n",
        "splitfolders.ratio('/content/raw-img', output=\"output\", seed=1337, ratio=(.8, 0.1,0.1)) "
      ],
      "metadata": {
        "colab": {
          "base_uri": "https://localhost:8080/"
        },
        "id": "dRXHPIEHN7U-",
        "outputId": "aca749e5-9512-43c0-dd00-7d78d386c0af"
      },
      "execution_count": 4,
      "outputs": [
        {
          "output_type": "stream",
          "name": "stdout",
          "text": [
            "Looking in indexes: https://pypi.org/simple, https://us-python.pkg.dev/colab-wheels/public/simple/\n",
            "Collecting split-folders\n",
            "  Downloading split_folders-0.5.1-py3-none-any.whl (8.4 kB)\n",
            "Installing collected packages: split-folders\n",
            "Successfully installed split-folders-0.5.1\n"
          ]
        },
        {
          "output_type": "stream",
          "name": "stderr",
          "text": [
            "Copying files: 26179 files [00:04, 5525.54 files/s]\n"
          ]
        }
      ]
    },
    {
      "cell_type": "code",
      "source": [
        "TRAIN_DIR = \"/content/output/train\"\n",
        "VAL_DIR = \"/content/output/val\"\n",
        "TEST_DIR = \"/content/output/test\""
      ],
      "metadata": {
        "id": "TLSUPFcMTcZR"
      },
      "execution_count": 5,
      "outputs": []
    },
    {
      "cell_type": "markdown",
      "source": [
        "configuring xception model"
      ],
      "metadata": {
        "id": "MhnB3kjTexOR"
      }
    },
    {
      "cell_type": "code",
      "source": [
        "pre_trained_model = Xception(include_top=False,\n",
        "                                weights='imagenet',\n",
        "                                input_shape=(150, 150, 3)\n",
        "                                )"
      ],
      "metadata": {
        "id": "XdZG6h3QOpXY",
        "colab": {
          "base_uri": "https://localhost:8080/"
        },
        "outputId": "d5710830-3555-44d9-ad4b-46809e759397"
      },
      "execution_count": 72,
      "outputs": [
        {
          "output_type": "stream",
          "name": "stdout",
          "text": [
            "Downloading data from https://storage.googleapis.com/tensorflow/keras-applications/xception/xception_weights_tf_dim_ordering_tf_kernels_notop.h5\n",
            "83683744/83683744 [==============================] - 1s 0us/step\n"
          ]
        }
      ]
    },
    {
      "cell_type": "code",
      "source": [
        "for layer in pre_trained_model.layers:\n",
        "  layer.trainable = False"
      ],
      "metadata": {
        "id": "0dUmxJb4P0YK"
      },
      "execution_count": 73,
      "outputs": []
    },
    {
      "cell_type": "code",
      "source": [
        "x = layers.Flatten()(pre_trained_model.output)\n",
        "x = layers.Dense(512, activation='relu')(x)\n",
        "x = layers.Dropout(0.2)(x)\n",
        "x = layers.Dense(10, activation='sigmoid')(x)\n",
        "\n",
        "\n",
        "model = Model(pre_trained_model.input, x)\n",
        "\n",
        "\n",
        "model.compile(optimizer=RMSprop(lr=0.001),\n",
        "              loss='categorical_crossentropy',\n",
        "              metrics = ['acc'])"
      ],
      "metadata": {
        "id": "P36Qwss-QWmB",
        "colab": {
          "base_uri": "https://localhost:8080/"
        },
        "outputId": "10fe14b8-5e32-4929-a125-4110488d89e3"
      },
      "execution_count": 75,
      "outputs": [
        {
          "output_type": "stream",
          "name": "stderr",
          "text": [
            "/usr/local/lib/python3.7/dist-packages/keras/optimizers/optimizer_v2/rmsprop.py:135: UserWarning: The `lr` argument is deprecated, use `learning_rate` instead.\n",
            "  super(RMSprop, self).__init__(name, **kwargs)\n"
          ]
        }
      ]
    },
    {
      "cell_type": "code",
      "source": [
        "train_datagen = ImageDataGenerator(\n",
        "    rescale=1./225,\n",
        "    rotation_range=40,\n",
        "    width_shift_range=0.2,\n",
        "    height_shift_range=0.2,\n",
        "    horizontal_flip=True,)\n",
        "\n",
        "valid_datagen = ImageDataGenerator(rescale=1./255)"
      ],
      "metadata": {
        "id": "G7LpzL2UR-QY"
      },
      "execution_count": 76,
      "outputs": []
    },
    {
      "cell_type": "code",
      "source": [
        "train_generator = train_datagen.flow_from_directory(\n",
        "    directory=TRAIN_DIR,\n",
        "    target_size=(150, 150),\n",
        "    batch_size=64,\n",
        "    class_mode=\"categorical\")\n",
        "\n",
        "valid_generator = train_datagen.flow_from_directory(\n",
        "    directory=VAL_DIR,\n",
        "    target_size=(150, 150),\n",
        "    batch_size=64,\n",
        "    class_mode=\"categorical\")"
      ],
      "metadata": {
        "colab": {
          "base_uri": "https://localhost:8080/"
        },
        "id": "GX0pWWRySWpN",
        "outputId": "842401a9-73b3-4866-a0b4-fdfb8332e7d1"
      },
      "execution_count": 77,
      "outputs": [
        {
          "output_type": "stream",
          "name": "stdout",
          "text": [
            "Found 20938 images belonging to 10 classes.\n",
            "Found 2614 images belonging to 10 classes.\n"
          ]
        }
      ]
    },
    {
      "cell_type": "code",
      "source": [
        "history = model.fit(train_generator,\n",
        "                    epochs=20,\n",
        "                    steps_per_epoch=100,\n",
        "                    verbose=2,\n",
        "                    validation_data=valid_generator)"
      ],
      "metadata": {
        "colab": {
          "base_uri": "https://localhost:8080/"
        },
        "id": "3dxUML1YT4Ht",
        "outputId": "f0644394-0a88-4b8c-d504-f318adfcf6a2"
      },
      "execution_count": 79,
      "outputs": [
        {
          "output_type": "stream",
          "name": "stdout",
          "text": [
            "Epoch 1/20\n",
            "100/100 - 67s - loss: 1.3494 - acc: 0.7188 - val_loss: 0.9548 - val_acc: 0.7533 - 67s/epoch - 669ms/step\n",
            "Epoch 2/20\n",
            "100/100 - 60s - loss: 1.1161 - acc: 0.7422 - val_loss: 0.9439 - val_acc: 0.7728 - 60s/epoch - 600ms/step\n",
            "Epoch 3/20\n",
            "100/100 - 60s - loss: 0.9250 - acc: 0.7664 - val_loss: 1.0473 - val_acc: 0.7598 - 60s/epoch - 598ms/step\n",
            "Epoch 4/20\n",
            "100/100 - 59s - loss: 0.8177 - acc: 0.7937 - val_loss: 0.7530 - val_acc: 0.7823 - 59s/epoch - 591ms/step\n",
            "Epoch 5/20\n",
            "100/100 - 61s - loss: 0.8710 - acc: 0.7781 - val_loss: 0.9295 - val_acc: 0.7827 - 61s/epoch - 606ms/step\n",
            "Epoch 6/20\n",
            "100/100 - 60s - loss: 0.7743 - acc: 0.7939 - val_loss: 0.7759 - val_acc: 0.8018 - 60s/epoch - 599ms/step\n",
            "Epoch 7/20\n",
            "100/100 - 59s - loss: 0.7854 - acc: 0.7873 - val_loss: 0.8840 - val_acc: 0.8003 - 59s/epoch - 589ms/step\n",
            "Epoch 8/20\n",
            "100/100 - 60s - loss: 0.6881 - acc: 0.8131 - val_loss: 0.6263 - val_acc: 0.8294 - 60s/epoch - 604ms/step\n",
            "Epoch 9/20\n",
            "100/100 - 59s - loss: 0.7072 - acc: 0.8194 - val_loss: 0.6871 - val_acc: 0.8248 - 59s/epoch - 591ms/step\n",
            "Epoch 10/20\n",
            "100/100 - 59s - loss: 0.7122 - acc: 0.8139 - val_loss: 0.6498 - val_acc: 0.8206 - 59s/epoch - 589ms/step\n",
            "Epoch 11/20\n",
            "100/100 - 60s - loss: 0.7331 - acc: 0.8075 - val_loss: 0.6356 - val_acc: 0.8305 - 60s/epoch - 600ms/step\n",
            "Epoch 12/20\n",
            "100/100 - 60s - loss: 0.6931 - acc: 0.8152 - val_loss: 0.6362 - val_acc: 0.8191 - 60s/epoch - 603ms/step\n",
            "Epoch 13/20\n",
            "100/100 - 60s - loss: 0.7051 - acc: 0.8171 - val_loss: 0.6741 - val_acc: 0.8252 - 60s/epoch - 600ms/step\n",
            "Epoch 14/20\n",
            "100/100 - 59s - loss: 0.7289 - acc: 0.8148 - val_loss: 0.6805 - val_acc: 0.8171 - 59s/epoch - 594ms/step\n",
            "Epoch 15/20\n",
            "100/100 - 60s - loss: 0.7073 - acc: 0.8150 - val_loss: 0.7572 - val_acc: 0.8191 - 60s/epoch - 599ms/step\n",
            "Epoch 16/20\n",
            "100/100 - 60s - loss: 0.6665 - acc: 0.8273 - val_loss: 0.6740 - val_acc: 0.8347 - 60s/epoch - 598ms/step\n",
            "Epoch 17/20\n",
            "100/100 - 61s - loss: 0.6556 - acc: 0.8252 - val_loss: 0.6248 - val_acc: 0.8389 - 61s/epoch - 609ms/step\n",
            "Epoch 18/20\n",
            "100/100 - 60s - loss: 0.6445 - acc: 0.8336 - val_loss: 0.7830 - val_acc: 0.8301 - 60s/epoch - 596ms/step\n",
            "Epoch 19/20\n",
            "100/100 - 60s - loss: 0.6312 - acc: 0.8338 - val_loss: 0.5943 - val_acc: 0.8298 - 60s/epoch - 598ms/step\n",
            "Epoch 20/20\n",
            "100/100 - 59s - loss: 0.6494 - acc: 0.8418 - val_loss: 0.6910 - val_acc: 0.8206 - 59s/epoch - 593ms/step\n"
          ]
        }
      ]
    },
    {
      "cell_type": "code",
      "source": [
        "import matplotlib.pyplot as plt\n",
        "\n",
        "plt.plot(history.history['acc'])\n",
        "plt.plot(history.history['val_acc'])\n",
        "plt.title('model accuracy')\n",
        "plt.ylabel('accuracy')\n",
        "plt.xlabel('epoch')\n",
        "plt.legend(['train', 'test'], loc='upper left')\n",
        "plt.show()\n",
        "\n",
        "plt.plot(history.history['loss'])\n",
        "plt.plot(history.history['val_loss'])\n",
        "plt.title('model loss')\n",
        "plt.ylabel('loss')\n",
        "plt.xlabel('epoch')\n",
        "plt.legend(['train', 'test'], loc='upper left')\n",
        "plt.show()"
      ],
      "metadata": {
        "colab": {
          "base_uri": "https://localhost:8080/",
          "height": 573
        },
        "id": "pO7GM21yaCq8",
        "outputId": "bb5556f7-78bf-40d3-8ec8-670fd80b6de6"
      },
      "execution_count": 80,
      "outputs": [
        {
          "output_type": "display_data",
          "data": {
            "text/plain": [
              "<Figure size 432x288 with 1 Axes>"
            ],
            "image/png": "[encoded data removed]"
          },
          "metadata": {
            "needs_background": "light"
          }
        },
        {
          "output_type": "display_data",
          "data": {
            "text/plain": [
              "<Figure size 432x288 with 1 Axes>"
            ],
            "image/png": "[encoded data removed]"
          },
          "metadata": {
            "needs_background": "light"
          }
        }
      ]
    },
    {
      "cell_type": "code",
      "source": [],
      "metadata": {
        "id": "FaxHZcvjcYTL"
      },
      "execution_count": 81,
      "outputs": []
    },
    {
      "cell_type": "code",
      "source": [
        "results = {0: 'dog',\n",
        "           1: 'horse',\n",
        "           2: 'elephant',\n",
        "           3: 'butterfly',\n",
        "           4: 'chicken',\n",
        "           5: 'cat',\n",
        "           6: 'cow',\n",
        "           7: 'sheep',\n",
        "           8: 'spider',\n",
        "           9: 'squirrel'}"
      ],
      "metadata": {
        "id": "QQxXC6OUPSmP"
      },
      "execution_count": 82,
      "outputs": []
    },
    {
      "cell_type": "code",
      "source": [
        "im=Image.open(\"/content/output/test/scoiattolo/OIP-2qGc6MkDYXePcg3fviwc7QHaEO.jpeg\")\n",
        "im=im.resize((150,150))\n",
        "im=np.expand_dims(im,axis=0)\n",
        "im=np.array(im)\n",
        "im=im/255\n",
        "pred=model.predict([im])[0]\n",
        "print(results[np.argmax(pred)])"
      ],
      "metadata": {
        "colab": {
          "base_uri": "https://localhost:8080/"
        },
        "id": "-102hIeQLcSO",
        "outputId": "3d96b95f-327d-47e9-b3d6-e9c8b0aed26e"
      },
      "execution_count": 88,
      "outputs": [
        {
          "output_type": "stream",
          "name": "stdout",
          "text": [
            "1/1 [==============================] - 0s 20ms/step\n",
            "squirrel\n"
          ]
        }
      ]
    },
    {
      "cell_type": "code",
      "source": [
        "def predict_image(image_path):\n",
        "  im=Image.open(image_path)\n",
        "  im=im.resize((150,150))\n",
        "  im=np.expand_dims(im,axis=0)\n",
        "  im=np.array(im)\n",
        "  im=im/255\n",
        "  pred=model.predict([im])[0]\n",
        "  return results[np.argmax(pred)]"
      ],
      "metadata": {
        "id": "ftKex9ryfZ0h"
      },
      "execution_count": 92,
      "outputs": []
    },
    {
      "cell_type": "code",
      "source": [
        "predict_image('/content/output/test/pecora/OIP-1DmKK0drohhyY2Ssem6AuQHaGJ.jpeg')"
      ],
      "metadata": {
        "colab": {
          "base_uri": "https://localhost:8080/",
          "height": 53
        },
        "id": "EwuKGvEOfRpP",
        "outputId": "6c3c372b-7a87-4453-9f5e-df640e7211fd"
      },
      "execution_count": 93,
      "outputs": [
        {
          "output_type": "stream",
          "name": "stdout",
          "text": [
            "1/1 [==============================] - 0s 20ms/step\n"
          ]
        },
        {
          "output_type": "execute_result",
          "data": {
            "text/plain": [
              "'sheep'"
            ],
            "application/vnd.google.colaboratory.intrinsic+json": {
              "type": "string"
            }
          },
          "metadata": {},
          "execution_count": 93
        }
      ]
    }
  ]
}